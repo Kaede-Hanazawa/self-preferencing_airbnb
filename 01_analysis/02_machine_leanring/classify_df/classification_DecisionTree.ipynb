{
 "cells": [
  {
   "cell_type": "code",
   "execution_count": 2,
   "metadata": {},
   "outputs": [],
   "source": [
    "import numpy as np\n",
    "import pandas as pd\n",
    "from sklearn.model_selection import train_test_split\n",
    "from sklearn.tree import DecisionTreeClassifier\n",
    "from sklearn.ensemble import RandomForestClassifier\n",
    "from sklearn.neighbors import KNeighborsClassifier\n",
    "from sklearn.svm import SVC\n",
    "from sklearn.linear_model import LogisticRegression\n",
    "from sklearn.naive_bayes import GaussianNB\n",
    "from sklearn.metrics import mean_squared_error\n",
    "from sklearn.impute import SimpleImputer\n"
   ]
  },
  {
   "cell_type": "code",
   "execution_count": 3,
   "metadata": {},
   "outputs": [],
   "source": [
    "df = pd.read_excel(\"../../99_data/加工データ/df_for_classification.xlsx\")"
   ]
  },
  {
   "cell_type": "code",
   "execution_count": 6,
   "metadata": {},
   "outputs": [
    {
     "name": "stdout",
     "output_type": "stream",
     "text": [
      "(57618, 7)\n",
      "(230468,)\n",
      "Decision Tree RMSE: 0.5469075951791296\n",
      "Trained Model: DecisionTreeClassifier(random_state=42)\n",
      "\n",
      "Random Forest RMSE: 0.4644874065032304\n",
      "Trained Model: RandomForestClassifier(random_state=42)\n",
      "\n",
      "k-NN RMSE: 1.121788228933509\n",
      "Trained Model: KNeighborsClassifier()\n",
      "\n",
      "Logistic Regression RMSE: 1.304927553288214\n",
      "Trained Model: LogisticRegression(max_iter=1000, random_state=42)\n",
      "\n",
      "Naive Bayes RMSE: 1.2511302120861956\n",
      "Trained Model: GaussianNB()\n",
      "\n",
      "Best Model: Random Forest with RMSE: 0.4644874065032304\n",
      "Best Trained Model Details: RandomForestClassifier(random_state=42)\n",
      "      hotel_rank\n",
      "0            3.0\n",
      "1            3.0\n",
      "2            3.0\n",
      "3            3.0\n",
      "4            3.0\n",
      "...          ...\n",
      "7750         0.0\n",
      "7751         0.0\n",
      "7752         0.0\n",
      "7753         5.0\n",
      "7754         5.0\n",
      "\n",
      "[7755 rows x 1 columns]\n"
     ]
    },
    {
     "name": "stderr",
     "output_type": "stream",
     "text": [
      "/Users/hanazawakaede/anaconda3/lib/python3.11/site-packages/sklearn/linear_model/_logistic.py:458: ConvergenceWarning: lbfgs failed to converge (status=1):\n",
      "STOP: TOTAL NO. of ITERATIONS REACHED LIMIT.\n",
      "\n",
      "Increase the number of iterations (max_iter) or scale the data as shown in:\n",
      "    https://scikit-learn.org/stable/modules/preprocessing.html\n",
      "Please also refer to the documentation for alternative solver options:\n",
      "    https://scikit-learn.org/stable/modules/linear_model.html#logistic-regression\n",
      "  n_iter_i = _check_optimize_result(\n",
      "/var/folders/gr/21_vqz8x3dgfv42hslwd3cvr0000gn/T/ipykernel_85861/3251383446.py:59: SettingWithCopyWarning: \n",
      "A value is trying to be set on a copy of a slice from a DataFrame.\n",
      "Try using .loc[row_indexer,col_indexer] = value instead\n",
      "\n",
      "See the caveats in the documentation: https://pandas.pydata.org/pandas-docs/stable/user_guide/indexing.html#returning-a-view-versus-a-copy\n",
      "  df_airbnb['hotel_rank'] = best_trained_model.predict(X_airbnb_imputed)\n"
     ]
    }
   ],
   "source": [
    "df_airbnb = df[df['is_airbnb'] == True]\n",
    "df_hotel = df[df['is_airbnb'] == False]\n",
    "\n",
    "# 特徴量とターゲット変数を分離\n",
    "X = df_hotel.drop(['hotel_rank', 'address', 'num_of_supply', 'area', 'day_of_week', 'check_in'], axis=1)\n",
    "Y = df_hotel['hotel_rank']\n",
    "\n",
    "# NaN値を処理するためにSimpleImputerを使用\n",
    "imputer = SimpleImputer(strategy='median')\n",
    "X_imputed = imputer.fit_transform(X)\n",
    "\n",
    "# データを8:2の割合で分割\n",
    "X_train, X_test, Y_train, Y_test = train_test_split(X_imputed, Y, test_size=0.2, random_state=42)\n",
    "\n",
    "# 結果の確認\n",
    "print(X_test.shape)\n",
    "print(Y_train.shape)\n",
    "\n",
    "# 各アルゴリズムでの訓練と評価を行う関数\n",
    "def evaluate_model(model, X_train, X_test, Y_train, Y_test):\n",
    "    model.fit(X_train, Y_train)\n",
    "    Y_pred = model.predict(X_test)\n",
    "    rmse = np.sqrt(mean_squared_error(Y_test, Y_pred))\n",
    "    return rmse, model\n",
    "\n",
    "# モデルのリスト\n",
    "models = [\n",
    "    (\"Decision Tree\", DecisionTreeClassifier(random_state=42)),\n",
    "    (\"Random Forest\", RandomForestClassifier(random_state=42)),\n",
    "    # (\"LightGBM\", lgb.LGBMClassifier(random_state=42)),\n",
    "    (\"k-NN\", KNeighborsClassifier()),\n",
    "    # (\"SVM\", SVC(kernel='rbf', C=1, gamma='scale', random_state=42)),\n",
    "    (\"Logistic Regression\", LogisticRegression(max_iter=1000, random_state=42)),\n",
    "    (\"Naive Bayes\", GaussianNB())\n",
    "]\n",
    "\n",
    "# 各モデルの評価\n",
    "results = []\n",
    "for name, model in models:\n",
    "    rmse, trained_model = evaluate_model(model, X_train, X_test, Y_train, Y_test)\n",
    "    results.append((name, rmse, trained_model))\n",
    "    print(f\"{name} RMSE: {rmse}\")\n",
    "    print(f\"Trained Model: {trained_model}\\n\")\n",
    "\n",
    "# 最もRMSEが小さいモデルを選択\n",
    "best_model_details = min(results, key=lambda x: x[1])\n",
    "best_model, best_rmse, best_trained_model = best_model_details\n",
    "\n",
    "print(f\"Best Model: {best_model} with RMSE: {best_rmse}\")\n",
    "print(f\"Best Trained Model Details: {best_trained_model}\")\n",
    "\n",
    "# df_airbnbの特徴量を準備\n",
    "X_airbnb = df_airbnb.drop(['hotel_rank', 'address', 'num_of_supply', 'area', 'day_of_week', 'check_in'], axis=1)\n",
    "\n",
    "# NaN値を処理するためにSimpleImputerを使用（同じインスタンスを使用して一貫性を保つ）\n",
    "X_airbnb_imputed = imputer.transform(X_airbnb)\n",
    "\n",
    "# 最良のモデルで予測\n",
    "df_airbnb['hotel_rank'] = best_trained_model.predict(X_airbnb_imputed)\n",
    "\n",
    "# 結果を表示\n",
    "print(df_airbnb[['hotel_rank']])\n"
   ]
  },
  {
   "cell_type": "code",
   "execution_count": 10,
   "metadata": {},
   "outputs": [],
   "source": [
    "# df_airbnbとdf_hotelを縦に結合\n",
    "df_combined = pd.concat([df_airbnb, df_hotel], axis=0)\n",
    "\n",
    "# エクセルファイルとして出力\n",
    "df_combined.to_excel(\"../99_data/加工データ/df_classified_DecisionTree.xlsx\", index=False)"
   ]
  }
 ],
 "metadata": {
  "kernelspec": {
   "display_name": "Python 3",
   "language": "python",
   "name": "python3"
  },
  "language_info": {
   "codemirror_mode": {
    "name": "ipython",
    "version": 3
   },
   "file_extension": ".py",
   "mimetype": "text/x-python",
   "name": "python",
   "nbconvert_exporter": "python",
   "pygments_lexer": "ipython3",
   "version": "3.11.8"
  }
 },
 "nbformat": 4,
 "nbformat_minor": 2
}
