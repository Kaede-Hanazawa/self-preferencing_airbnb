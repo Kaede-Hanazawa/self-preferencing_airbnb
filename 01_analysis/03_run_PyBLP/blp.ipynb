{
 "cells": [
  {
   "cell_type": "markdown",
   "metadata": {},
   "source": [
    "# Supply Side Tutorial with Automobile Data"
   ]
  },
  {
   "cell_type": "code",
   "execution_count": 1,
   "metadata": {},
   "outputs": [
    {
     "data": {
      "text/plain": [
       "'1.1.0'"
      ]
     },
     "execution_count": 1,
     "metadata": {},
     "output_type": "execute_result"
    }
   ],
   "source": [
    "import pyblp\n",
    "import numpy as np\n",
    "import pandas as pd \n",
    "\n",
    "pyblp.options.digits = 2\n",
    "pyblp.options.verbose = False\n",
    "pyblp.__version__"
   ]
  },
  {
   "cell_type": "markdown",
   "metadata": {},
   "source": [
    "In this tutorial, we'll use data from [Berry, Levinsohn, and Pakes (1995)](https://pyblp.readthedocs.io/en/stable/references.html#berry-levinsohn-and-pakes-1995) to solve the paper's automobile problem. This tutorial is similar to the [fake cereal tutorial](nevo.ipynb), but exhibits some other features of pyblp:\n",
    "\n",
    "- Incorporating a supply side into demand estimation.\n",
    "- Allowing for simple price-income demographic effects.\n",
    "- Calculating clustered standard errors.\n",
    "\n",
    "\n",
    "## Loading Data\n",
    "\n",
    "We'll use [pandas](https://pandas.pydata.org/) to load two sets of data:\n",
    "\n",
    "1. `product_data`, which contains prices, shares, and other product characteristics.\n",
    "2. `agent_data`, which contains draws from the distribution of heterogeneity."
   ]
  },
  {
   "cell_type": "code",
   "execution_count": 2,
   "metadata": {},
   "outputs": [
    {
     "data": {
      "text/html": [
       "<div>\n",
       "<style scoped>\n",
       "    .dataframe tbody tr th:only-of-type {\n",
       "        vertical-align: middle;\n",
       "    }\n",
       "\n",
       "    .dataframe tbody tr th {\n",
       "        vertical-align: top;\n",
       "    }\n",
       "\n",
       "    .dataframe thead th {\n",
       "        text-align: right;\n",
       "    }\n",
       "</style>\n",
       "<table border=\"1\" class=\"dataframe\">\n",
       "  <thead>\n",
       "    <tr style=\"text-align: right;\">\n",
       "      <th></th>\n",
       "      <th>market_ids</th>\n",
       "      <th>clustering_ids</th>\n",
       "      <th>car_ids</th>\n",
       "      <th>firm_ids</th>\n",
       "      <th>region</th>\n",
       "      <th>shares</th>\n",
       "      <th>prices</th>\n",
       "      <th>hpwt</th>\n",
       "      <th>air</th>\n",
       "      <th>mpd</th>\n",
       "      <th>...</th>\n",
       "      <th>supply_instruments2</th>\n",
       "      <th>supply_instruments3</th>\n",
       "      <th>supply_instruments4</th>\n",
       "      <th>supply_instruments5</th>\n",
       "      <th>supply_instruments6</th>\n",
       "      <th>supply_instruments7</th>\n",
       "      <th>supply_instruments8</th>\n",
       "      <th>supply_instruments9</th>\n",
       "      <th>supply_instruments10</th>\n",
       "      <th>supply_instruments11</th>\n",
       "    </tr>\n",
       "  </thead>\n",
       "  <tbody>\n",
       "    <tr>\n",
       "      <th>0</th>\n",
       "      <td>1971</td>\n",
       "      <td>AMGREM71</td>\n",
       "      <td>129</td>\n",
       "      <td>15</td>\n",
       "      <td>US</td>\n",
       "      <td>0.001051</td>\n",
       "      <td>4.935802</td>\n",
       "      <td>0.528997</td>\n",
       "      <td>0</td>\n",
       "      <td>1.888146</td>\n",
       "      <td>...</td>\n",
       "      <td>0.0</td>\n",
       "      <td>1.705933</td>\n",
       "      <td>1.595656</td>\n",
       "      <td>87.0</td>\n",
       "      <td>-61.959985</td>\n",
       "      <td>0.0</td>\n",
       "      <td>46.060389</td>\n",
       "      <td>29.786989</td>\n",
       "      <td>0.0</td>\n",
       "      <td>1.888146</td>\n",
       "    </tr>\n",
       "    <tr>\n",
       "      <th>1</th>\n",
       "      <td>1971</td>\n",
       "      <td>AMHORN71</td>\n",
       "      <td>130</td>\n",
       "      <td>15</td>\n",
       "      <td>US</td>\n",
       "      <td>0.000670</td>\n",
       "      <td>5.516049</td>\n",
       "      <td>0.494324</td>\n",
       "      <td>0</td>\n",
       "      <td>1.935989</td>\n",
       "      <td>...</td>\n",
       "      <td>0.0</td>\n",
       "      <td>1.680910</td>\n",
       "      <td>1.490295</td>\n",
       "      <td>87.0</td>\n",
       "      <td>-61.959985</td>\n",
       "      <td>0.0</td>\n",
       "      <td>46.060389</td>\n",
       "      <td>29.786989</td>\n",
       "      <td>0.0</td>\n",
       "      <td>1.935989</td>\n",
       "    </tr>\n",
       "    <tr>\n",
       "      <th>2</th>\n",
       "      <td>1971</td>\n",
       "      <td>AMJAVL71</td>\n",
       "      <td>132</td>\n",
       "      <td>15</td>\n",
       "      <td>US</td>\n",
       "      <td>0.000341</td>\n",
       "      <td>7.108642</td>\n",
       "      <td>0.467613</td>\n",
       "      <td>0</td>\n",
       "      <td>1.716799</td>\n",
       "      <td>...</td>\n",
       "      <td>0.0</td>\n",
       "      <td>1.801067</td>\n",
       "      <td>1.357703</td>\n",
       "      <td>87.0</td>\n",
       "      <td>-61.959985</td>\n",
       "      <td>0.0</td>\n",
       "      <td>46.060389</td>\n",
       "      <td>29.786989</td>\n",
       "      <td>0.0</td>\n",
       "      <td>1.716799</td>\n",
       "    </tr>\n",
       "    <tr>\n",
       "      <th>3</th>\n",
       "      <td>1971</td>\n",
       "      <td>AMMATA71</td>\n",
       "      <td>134</td>\n",
       "      <td>15</td>\n",
       "      <td>US</td>\n",
       "      <td>0.000522</td>\n",
       "      <td>6.839506</td>\n",
       "      <td>0.426540</td>\n",
       "      <td>0</td>\n",
       "      <td>1.687871</td>\n",
       "      <td>...</td>\n",
       "      <td>0.0</td>\n",
       "      <td>1.818061</td>\n",
       "      <td>1.261347</td>\n",
       "      <td>87.0</td>\n",
       "      <td>-61.959985</td>\n",
       "      <td>0.0</td>\n",
       "      <td>46.060389</td>\n",
       "      <td>29.786989</td>\n",
       "      <td>0.0</td>\n",
       "      <td>1.687871</td>\n",
       "    </tr>\n",
       "    <tr>\n",
       "      <th>4</th>\n",
       "      <td>1971</td>\n",
       "      <td>AMAMBS71</td>\n",
       "      <td>136</td>\n",
       "      <td>15</td>\n",
       "      <td>US</td>\n",
       "      <td>0.000442</td>\n",
       "      <td>8.928395</td>\n",
       "      <td>0.452489</td>\n",
       "      <td>0</td>\n",
       "      <td>1.504286</td>\n",
       "      <td>...</td>\n",
       "      <td>0.0</td>\n",
       "      <td>1.933210</td>\n",
       "      <td>1.237365</td>\n",
       "      <td>87.0</td>\n",
       "      <td>-61.959985</td>\n",
       "      <td>0.0</td>\n",
       "      <td>46.060389</td>\n",
       "      <td>29.786989</td>\n",
       "      <td>0.0</td>\n",
       "      <td>1.504286</td>\n",
       "    </tr>\n",
       "  </tbody>\n",
       "</table>\n",
       "<p>5 rows × 33 columns</p>\n",
       "</div>"
      ],
      "text/plain": [
       "   market_ids clustering_ids  car_ids  firm_ids region    shares    prices  \\\n",
       "0        1971       AMGREM71      129        15     US  0.001051  4.935802   \n",
       "1        1971       AMHORN71      130        15     US  0.000670  5.516049   \n",
       "2        1971       AMJAVL71      132        15     US  0.000341  7.108642   \n",
       "3        1971       AMMATA71      134        15     US  0.000522  6.839506   \n",
       "4        1971       AMAMBS71      136        15     US  0.000442  8.928395   \n",
       "\n",
       "       hpwt  air       mpd  ...  supply_instruments2  supply_instruments3  \\\n",
       "0  0.528997    0  1.888146  ...                  0.0             1.705933   \n",
       "1  0.494324    0  1.935989  ...                  0.0             1.680910   \n",
       "2  0.467613    0  1.716799  ...                  0.0             1.801067   \n",
       "3  0.426540    0  1.687871  ...                  0.0             1.818061   \n",
       "4  0.452489    0  1.504286  ...                  0.0             1.933210   \n",
       "\n",
       "   supply_instruments4  supply_instruments5  supply_instruments6  \\\n",
       "0             1.595656                 87.0           -61.959985   \n",
       "1             1.490295                 87.0           -61.959985   \n",
       "2             1.357703                 87.0           -61.959985   \n",
       "3             1.261347                 87.0           -61.959985   \n",
       "4             1.237365                 87.0           -61.959985   \n",
       "\n",
       "   supply_instruments7  supply_instruments8  supply_instruments9  \\\n",
       "0                  0.0            46.060389            29.786989   \n",
       "1                  0.0            46.060389            29.786989   \n",
       "2                  0.0            46.060389            29.786989   \n",
       "3                  0.0            46.060389            29.786989   \n",
       "4                  0.0            46.060389            29.786989   \n",
       "\n",
       "   supply_instruments10  supply_instruments11  \n",
       "0                   0.0              1.888146  \n",
       "1                   0.0              1.935989  \n",
       "2                   0.0              1.716799  \n",
       "3                   0.0              1.687871  \n",
       "4                   0.0              1.504286  \n",
       "\n",
       "[5 rows x 33 columns]"
      ]
     },
     "execution_count": 2,
     "metadata": {},
     "output_type": "execute_result"
    }
   ],
   "source": [
    "product_data = pd.read_csv(pyblp.data.BLP_PRODUCTS_LOCATION)\n",
    "product_data.head()"
   ]
  },
  {
   "cell_type": "markdown",
   "metadata": {},
   "source": [
    "The `product_data` contains market IDs, product IDs, firm IDs, shares, prices, a number of product characteristics, and instruments. The product IDs are called `clustering_ids` because they will be used to compute clustered standard errors. For more information about the instruments and the example data as a whole, refer to the [`data`](https://pyblp.readthedocs.io/en/stable/_api/pyblp.data.html#module-pyblp.data) module.\n",
    "\n",
    "The `agent_data` contains market IDs, integration weights $w_{it}$, integration nodes $\\nu_{it}$, and demographics $d_{it}$. Here we use the $I_t = 200$ importance sampling weights and nodes from the original paper.\n",
    "\n",
    "In non-example problems, it is usually a better idea to use many more draws, or a more sophisticated [`Integration`](https://pyblp.readthedocs.io/en/stable/_api/pyblp.Integration.html#pyblp.Integration) configuration such as sparse grid quadrature."
   ]
  },
  {
   "cell_type": "code",
   "execution_count": 3,
   "metadata": {},
   "outputs": [
    {
     "data": {
      "text/html": [
       "<div>\n",
       "<style scoped>\n",
       "    .dataframe tbody tr th:only-of-type {\n",
       "        vertical-align: middle;\n",
       "    }\n",
       "\n",
       "    .dataframe tbody tr th {\n",
       "        vertical-align: top;\n",
       "    }\n",
       "\n",
       "    .dataframe thead th {\n",
       "        text-align: right;\n",
       "    }\n",
       "</style>\n",
       "<table border=\"1\" class=\"dataframe\">\n",
       "  <thead>\n",
       "    <tr style=\"text-align: right;\">\n",
       "      <th></th>\n",
       "      <th>market_ids</th>\n",
       "      <th>weights</th>\n",
       "      <th>nodes0</th>\n",
       "      <th>nodes1</th>\n",
       "      <th>nodes2</th>\n",
       "      <th>nodes3</th>\n",
       "      <th>nodes4</th>\n",
       "      <th>income</th>\n",
       "    </tr>\n",
       "  </thead>\n",
       "  <tbody>\n",
       "    <tr>\n",
       "      <th>0</th>\n",
       "      <td>1971</td>\n",
       "      <td>0.000543</td>\n",
       "      <td>1.192188</td>\n",
       "      <td>0.478777</td>\n",
       "      <td>0.980830</td>\n",
       "      <td>-0.824410</td>\n",
       "      <td>2.473301</td>\n",
       "      <td>109.560369</td>\n",
       "    </tr>\n",
       "    <tr>\n",
       "      <th>1</th>\n",
       "      <td>1971</td>\n",
       "      <td>0.000723</td>\n",
       "      <td>1.497074</td>\n",
       "      <td>-2.026204</td>\n",
       "      <td>-1.741316</td>\n",
       "      <td>1.412568</td>\n",
       "      <td>-0.747468</td>\n",
       "      <td>45.457314</td>\n",
       "    </tr>\n",
       "    <tr>\n",
       "      <th>2</th>\n",
       "      <td>1971</td>\n",
       "      <td>0.000544</td>\n",
       "      <td>1.438081</td>\n",
       "      <td>0.813280</td>\n",
       "      <td>-1.749974</td>\n",
       "      <td>-1.203509</td>\n",
       "      <td>0.049558</td>\n",
       "      <td>127.146548</td>\n",
       "    </tr>\n",
       "    <tr>\n",
       "      <th>3</th>\n",
       "      <td>1971</td>\n",
       "      <td>0.000701</td>\n",
       "      <td>1.768655</td>\n",
       "      <td>-0.177453</td>\n",
       "      <td>0.286602</td>\n",
       "      <td>0.391517</td>\n",
       "      <td>0.683669</td>\n",
       "      <td>22.604045</td>\n",
       "    </tr>\n",
       "    <tr>\n",
       "      <th>4</th>\n",
       "      <td>1971</td>\n",
       "      <td>0.000549</td>\n",
       "      <td>0.849970</td>\n",
       "      <td>-0.135337</td>\n",
       "      <td>0.735920</td>\n",
       "      <td>1.036247</td>\n",
       "      <td>-1.143436</td>\n",
       "      <td>170.226032</td>\n",
       "    </tr>\n",
       "  </tbody>\n",
       "</table>\n",
       "</div>"
      ],
      "text/plain": [
       "   market_ids   weights    nodes0    nodes1    nodes2    nodes3    nodes4  \\\n",
       "0        1971  0.000543  1.192188  0.478777  0.980830 -0.824410  2.473301   \n",
       "1        1971  0.000723  1.497074 -2.026204 -1.741316  1.412568 -0.747468   \n",
       "2        1971  0.000544  1.438081  0.813280 -1.749974 -1.203509  0.049558   \n",
       "3        1971  0.000701  1.768655 -0.177453  0.286602  0.391517  0.683669   \n",
       "4        1971  0.000549  0.849970 -0.135337  0.735920  1.036247 -1.143436   \n",
       "\n",
       "       income  \n",
       "0  109.560369  \n",
       "1   45.457314  \n",
       "2  127.146548  \n",
       "3   22.604045  \n",
       "4  170.226032  "
      ]
     },
     "execution_count": 3,
     "metadata": {},
     "output_type": "execute_result"
    }
   ],
   "source": [
    "agent_data = pd.read_csv(pyblp.data.BLP_AGENTS_LOCATION)\n",
    "agent_data.head()"
   ]
  },
  {
   "cell_type": "markdown",
   "metadata": {},
   "source": [
    "## Setting up the Problem\n",
    "\n",
    "Unlike the fake cereal problem, we won't absorb any fixed effects in the automobile problem, so the linear part of demand $X_1$ has more components. We also need to specify a formula for the random coefficients $X_2$, including a random coefficient on the constant, which captures correlation among all inside goods.\n",
    "\n",
    "The primary new addition to the model relative to the fake cereal problem is that we add a supply side formula for product characteristics that contribute to marginal costs, $X_3$. The [patsy](https://patsy.readthedocs.io/en/stable/)-style formulas support functions of regressors such as the `log` function used below.\n",
    "\n",
    "We stack the three product formulations in order: $X_1$, $X_2$, and $X_3$."
   ]
  },
  {
   "cell_type": "code",
   "execution_count": 4,
   "metadata": {},
   "outputs": [
    {
     "data": {
      "text/plain": [
       "(1 + hpwt + air + mpd + space,\n",
       " 1 + prices + hpwt + air + mpd + space,\n",
       " 1 + log(hpwt) + air + log(mpg) + log(space) + trend)"
      ]
     },
     "execution_count": 4,
     "metadata": {},
     "output_type": "execute_result"
    }
   ],
   "source": [
    "product_formulations = (\n",
    "   pyblp.Formulation('1 + hpwt + air + mpd + space'),\n",
    "   pyblp.Formulation('1 + prices + hpwt + air + mpd + space'),\n",
    "   pyblp.Formulation('1 + log(hpwt) + air + log(mpg) + log(space) + trend')\n",
    ")\n",
    "product_formulations"
   ]
  },
  {
   "cell_type": "markdown",
   "metadata": {},
   "source": [
    "The original specification for the automobile problem includes the term $\\log(y_i - p_j)$, in which $y$ is income and $p$ are prices. Instead of including this term, which gives rise to a host of numerical problems, we'll follow [Berry, Levinsohn, and Pakes (1999)](https://pyblp.readthedocs.io/en/stable/references.html#berry-levinsohn-and-pakes-1999) and use its first-order linear approximation, $p_j / y_i$. \n",
    "\n",
    "The agent formulation for demographics, $d$, includes a column of $1 / y_i$ values, which we'll interact with $p_j$. To do this, we will treat draws of $y_i$ as demographic variables."
   ]
  },
  {
   "cell_type": "code",
   "execution_count": 5,
   "metadata": {},
   "outputs": [
    {
     "data": {
      "text/plain": [
       "I(1 / income)"
      ]
     },
     "execution_count": 5,
     "metadata": {},
     "output_type": "execute_result"
    }
   ],
   "source": [
    "agent_formulation = pyblp.Formulation('0 + I(1 / income)')\n",
    "agent_formulation"
   ]
  },
  {
   "cell_type": "markdown",
   "metadata": {},
   "source": [
    "As in the cereal example, the [`Problem`](https://pyblp.readthedocs.io/en/stable/_api/pyblp.Problem.html#pyblp.Problem) can be constructed by combining the `product_formulations`, `product_data`, `agent_formulation`, and `agent_data`. We'll also choose the functional form of marginal costs $c_{jt}$. A linear marginal cost specification is the default setting, so we'll need to use the `costs_type` argument of [`Problem`](https://pyblp.readthedocs.io/en/stable/_api/pyblp.Problem.html#pyblp.Problem) to employ the log-linear specification used by [Berry, Levinsohn, and Pakes (1995)](https://pyblp.readthedocs.io/en/stable/references.html#berry-levinsohn-and-pakes-1995).\n",
    "\n",
    "When initializing the problem, we get a warning about integration weights not summing to one. This is because the above product data were created by the original paper with importance sampling. To disable this warning, we could increase `pyblp.options.weights_tol`."
   ]
  },
  {
   "cell_type": "code",
   "execution_count": 6,
   "metadata": {},
   "outputs": [
    {
     "name": "stderr",
     "output_type": "stream",
     "text": [
      "Integration weights in the following markets sum to a value that differs from 1 by more than options.weights_tol: all markets. Sometimes this is fine, for example when weights were built with importance sampling. Otherwise, it is a sign that there is a data problem.\n"
     ]
    },
    {
     "data": {
      "text/plain": [
       "Dimensions:\n",
       "=======================================================\n",
       " T    N     F    I     K1    K2    K3    D    MD    MS \n",
       "---  ----  ---  ----  ----  ----  ----  ---  ----  ----\n",
       "20   2217  26   4000   5     6     6     1    13    18 \n",
       "=======================================================\n",
       "\n",
       "Formulations:\n",
       "=====================================================================================\n",
       "       Column Indices:            0          1       2       3          4         5  \n",
       "-----------------------------  --------  ---------  ----  --------  ----------  -----\n",
       " X1: Linear Characteristics       1        hpwt     air     mpd       space          \n",
       "X2: Nonlinear Characteristics     1       prices    hpwt    air        mpd      space\n",
       "X3: Log Cost Characteristics      1      log(hpwt)  air   log(mpg)  log(space)  trend\n",
       "       d: Demographics         1/income                                              \n",
       "====================================================================================="
      ]
     },
     "execution_count": 6,
     "metadata": {},
     "output_type": "execute_result"
    }
   ],
   "source": [
    "problem = pyblp.Problem(product_formulations, product_data, agent_formulation, agent_data, costs_type='log')\n",
    "problem"
   ]
  },
  {
   "cell_type": "markdown",
   "metadata": {},
   "source": [
    "The problem outputs a table of dimensions:\n",
    "\n",
    "- $T$ denotes the number of markets.\n",
    "- $N$ is the length of the dataset (the number of products across all markets).\n",
    "- $F$ denotes the number of firms.\n",
    "- $I = \\sum_t I_t$ is the total number of agents across all markets (200 draws per market times 20 markets).\n",
    "- $K_1$ is the number of linear demand characteristics.\n",
    "- $K_2$ is the number of nonlinear demand characteristics.\n",
    "- $K_3$ is the number of linear supply characteristics.\n",
    "- $D$ is the number of demographic variables.\n",
    "- $M_D$ is the number of demand instruments, including exogenous regressors.\n",
    "- $M_S$ is the number of supply instruments, including exogenous regressors.\n",
    "\n",
    "The formulations table describes all four formulas for demand-side linear characteristics, demand-side nonlinear characteristics, supply-side characteristics, and demographics."
   ]
  },
  {
   "cell_type": "markdown",
   "metadata": {},
   "source": [
    "## Solving the Problem"
   ]
  },
  {
   "cell_type": "markdown",
   "metadata": {},
   "source": [
    "The only remaining decisions are:\n",
    "\n",
    "- Choosing $\\Sigma$ and $\\Pi$ starting values, $\\Sigma_0$ and $\\Pi_0$.\n",
    "- Potentially choosing bounds for $\\Sigma$ and $\\Pi$.\n",
    "\n",
    "The decisions we will use are:\n",
    "\n",
    "- Use published estimates as our starting values in $\\Sigma_0$.\n",
    "- Interact the inverse of income, $1 / y_i$, only with prices, and use the published estimate on $\\log(y_i - p_j)$ as our starting value for $\\alpha$ in $\\Pi_0$.\n",
    "- Bound $\\Sigma_0$ to be positive since it is a diagonal matrix where the diagonal consists of standard deviations.\n",
    "\n",
    "When using a routine that supports bounds, it's usually a good idea to set your own more bounds so that the routine doesn't try out large parameter values that create numerical issues."
   ]
  },
  {
   "cell_type": "code",
   "execution_count": 7,
   "metadata": {},
   "outputs": [],
   "source": [
    "initial_sigma = np.diag([3.612, 0, 4.628, 1.818, 1.050, 2.056])\n",
    "initial_pi = np.c_[[0, -43.501, 0, 0, 0, 0]]"
   ]
  },
  {
   "cell_type": "markdown",
   "metadata": {},
   "source": [
    "Note that there are only 5 nonzeros on the diagonal of $\\Sigma$, which means that we only need 5 columns of integration nodes to integrate over these 5 dimensions of unobserved heterogeneity. Indeed, `agent_data` contains exactly 5 columns of nodes. If we were to ignore the $\\log(y_i - p_j)$ term (by not configuring $\\Pi$) and include a term on prices in $\\Sigma$ instead, we would have needed 6 columns of integration nodes in our `agent_data`.\n",
    "\n",
    "A downside of the log-linear marginal costs specification is that nonpositive estimated marginal costs can create problems for the optimization routine when computing $\\log c(\\hat{\\theta})$. We'll use the `costs_bounds` argument to bound marginal costs from below by a small number. \n",
    "\n",
    "Finally, as in the original paper, we'll use `W_type` and `se_type` to cluster by product IDs, which were specified as `clustering_ids` in `product_data`, and set `initial_update=True` to update the initial GMM weighting matrix and the mean utility at the starting parameter values."
   ]
  },
  {
   "cell_type": "code",
   "execution_count": 8,
   "metadata": {},
   "outputs": [
    {
     "ename": "KeyboardInterrupt",
     "evalue": "",
     "output_type": "error",
     "traceback": [
      "\u001b[0;31m---------------------------------------------------------------------------\u001b[0m",
      "\u001b[0;31mKeyboardInterrupt\u001b[0m                         Traceback (most recent call last)",
      "Cell \u001b[0;32mIn[8], line 1\u001b[0m\n\u001b[0;32m----> 1\u001b[0m results \u001b[38;5;241m=\u001b[39m \u001b[43mproblem\u001b[49m\u001b[38;5;241;43m.\u001b[39;49m\u001b[43msolve\u001b[49m\u001b[43m(\u001b[49m\n\u001b[1;32m      2\u001b[0m \u001b[43m    \u001b[49m\u001b[43minitial_sigma\u001b[49m\u001b[43m,\u001b[49m\n\u001b[1;32m      3\u001b[0m \u001b[43m    \u001b[49m\u001b[43minitial_pi\u001b[49m\u001b[43m,\u001b[49m\n\u001b[1;32m      4\u001b[0m \u001b[43m    \u001b[49m\u001b[43mcosts_bounds\u001b[49m\u001b[38;5;241;43m=\u001b[39;49m\u001b[43m(\u001b[49m\u001b[38;5;241;43m0.001\u001b[39;49m\u001b[43m,\u001b[49m\u001b[43m \u001b[49m\u001b[38;5;28;43;01mNone\u001b[39;49;00m\u001b[43m)\u001b[49m\u001b[43m,\u001b[49m\n\u001b[1;32m      5\u001b[0m \u001b[43m    \u001b[49m\u001b[43mW_type\u001b[49m\u001b[38;5;241;43m=\u001b[39;49m\u001b[38;5;124;43m'\u001b[39;49m\u001b[38;5;124;43mclustered\u001b[39;49m\u001b[38;5;124;43m'\u001b[39;49m\u001b[43m,\u001b[49m\n\u001b[1;32m      6\u001b[0m \u001b[43m    \u001b[49m\u001b[43mse_type\u001b[49m\u001b[38;5;241;43m=\u001b[39;49m\u001b[38;5;124;43m'\u001b[39;49m\u001b[38;5;124;43mclustered\u001b[39;49m\u001b[38;5;124;43m'\u001b[39;49m\u001b[43m,\u001b[49m\n\u001b[1;32m      7\u001b[0m \u001b[43m    \u001b[49m\u001b[43minitial_update\u001b[49m\u001b[38;5;241;43m=\u001b[39;49m\u001b[38;5;28;43;01mTrue\u001b[39;49;00m\u001b[43m,\u001b[49m\n\u001b[1;32m      8\u001b[0m \u001b[43m)\u001b[49m\n\u001b[1;32m      9\u001b[0m results\n",
      "File \u001b[0;32m~/anaconda3/envs/Airbnb/lib/python3.11/site-packages/pyblp/economies/problem.py:687\u001b[0m, in \u001b[0;36mProblemEconomy.solve\u001b[0;34m(self, sigma, pi, rho, beta, gamma, sigma_bounds, pi_bounds, rho_bounds, beta_bounds, gamma_bounds, delta, method, initial_update, optimization, scale_objective, check_optimality, finite_differences, error_behavior, error_punishment, delta_behavior, iteration, fp_type, shares_bounds, costs_bounds, W, center_moments, W_type, se_type, covariance_moments_mean, micro_moments, micro_sample_covariances, resample_agent_data)\u001b[0m\n\u001b[1;32m    685\u001b[0m output(\u001b[38;5;124mf\u001b[39m\u001b[38;5;124m\"\u001b[39m\u001b[38;5;124mStarting optimization ...\u001b[39m\u001b[38;5;124m\"\u001b[39m)\n\u001b[1;32m    686\u001b[0m output(\u001b[38;5;124m\"\u001b[39m\u001b[38;5;124m\"\u001b[39m)\n\u001b[0;32m--> 687\u001b[0m theta, optimization_stats \u001b[38;5;241m=\u001b[39m \u001b[43moptimization\u001b[49m\u001b[38;5;241;43m.\u001b[39;49m\u001b[43m_optimize\u001b[49m\u001b[43m(\u001b[49m\u001b[43mtheta\u001b[49m\u001b[43m,\u001b[49m\u001b[43m \u001b[49m\u001b[43mtheta_bounds\u001b[49m\u001b[43m,\u001b[49m\u001b[43m \u001b[49m\u001b[43mwrapper\u001b[49m\u001b[43m)\u001b[49m\n\u001b[1;32m    688\u001b[0m status \u001b[38;5;241m=\u001b[39m \u001b[38;5;124m\"\u001b[39m\u001b[38;5;124mcompleted\u001b[39m\u001b[38;5;124m\"\u001b[39m \u001b[38;5;28;01mif\u001b[39;00m optimization_stats\u001b[38;5;241m.\u001b[39mconverged \u001b[38;5;28;01melse\u001b[39;00m \u001b[38;5;124m\"\u001b[39m\u001b[38;5;124mfailed\u001b[39m\u001b[38;5;124m\"\u001b[39m\n\u001b[1;32m    689\u001b[0m optimization_end_time \u001b[38;5;241m=\u001b[39m time\u001b[38;5;241m.\u001b[39mtime()\n",
      "File \u001b[0;32m~/anaconda3/envs/Airbnb/lib/python3.11/site-packages/pyblp/configurations/optimization.py:290\u001b[0m, in \u001b[0;36mOptimization._optimize\u001b[0;34m(self, initial, bounds, verbose_objective_function)\u001b[0m\n\u001b[1;32m    287\u001b[0m raw_bounds \u001b[38;5;241m=\u001b[39m \u001b[38;5;28;01mNone\u001b[39;00m \u001b[38;5;28;01mif\u001b[39;00m bounds \u001b[38;5;129;01mis\u001b[39;00m \u001b[38;5;28;01mNone\u001b[39;00m \u001b[38;5;129;01mor\u001b[39;00m \u001b[38;5;129;01mnot\u001b[39;00m \u001b[38;5;28mself\u001b[39m\u001b[38;5;241m.\u001b[39m_supports_bounds \u001b[38;5;28;01melse\u001b[39;00m [(\u001b[38;5;28mfloat\u001b[39m(l), \u001b[38;5;28mfloat\u001b[39m(u)) \u001b[38;5;28;01mfor\u001b[39;00m l, u \u001b[38;5;129;01min\u001b[39;00m bounds]\n\u001b[1;32m    289\u001b[0m \u001b[38;5;66;03m# solve the problem and convert the raw final values to the same data type and shape as the initial values\u001b[39;00m\n\u001b[0;32m--> 290\u001b[0m raw_final, converged \u001b[38;5;241m=\u001b[39m \u001b[38;5;28;43mself\u001b[39;49m\u001b[38;5;241;43m.\u001b[39;49m\u001b[43m_optimizer\u001b[49m\u001b[43m(\u001b[49m\n\u001b[1;32m    291\u001b[0m \u001b[43m    \u001b[49m\u001b[43mraw_initial\u001b[49m\u001b[43m,\u001b[49m\u001b[43m \u001b[49m\u001b[43mraw_bounds\u001b[49m\u001b[43m,\u001b[49m\u001b[43m \u001b[49m\u001b[43mobjective_wrapper\u001b[49m\u001b[43m,\u001b[49m\u001b[43m \u001b[49m\u001b[43miteration_callback\u001b[49m\u001b[43m,\u001b[49m\u001b[43m \u001b[49m\u001b[38;5;241;43m*\u001b[39;49m\u001b[38;5;241;43m*\u001b[39;49m\u001b[38;5;28;43mself\u001b[39;49m\u001b[38;5;241;43m.\u001b[39;49m\u001b[43m_method_options\u001b[49m\n\u001b[1;32m    292\u001b[0m \u001b[43m\u001b[49m\u001b[43m)\u001b[49m\n\u001b[1;32m    293\u001b[0m final \u001b[38;5;241m=\u001b[39m np\u001b[38;5;241m.\u001b[39masanyarray(raw_final)\u001b[38;5;241m.\u001b[39mastype(initial\u001b[38;5;241m.\u001b[39mdtype, copy\u001b[38;5;241m=\u001b[39m\u001b[38;5;28;01mFalse\u001b[39;00m)\u001b[38;5;241m.\u001b[39mreshape(initial\u001b[38;5;241m.\u001b[39mshape)\n\u001b[1;32m    294\u001b[0m stats \u001b[38;5;241m=\u001b[39m SolverStats(converged, iterations, evaluations)\n",
      "File \u001b[0;32m~/anaconda3/envs/Airbnb/lib/python3.11/site-packages/pyblp/configurations/optimization.py:338\u001b[0m, in \u001b[0;36mscipy_optimizer\u001b[0;34m(initial_values, bounds, objective_function, iteration_callback, method, compute_gradient, **scipy_options)\u001b[0m\n\u001b[1;32m    336\u001b[0m \u001b[38;5;66;03m# call the SciPy function\u001b[39;00m\n\u001b[1;32m    337\u001b[0m callback \u001b[38;5;241m=\u001b[39m \u001b[38;5;28;01mlambda\u001b[39;00m \u001b[38;5;241m*\u001b[39m_: iteration_callback()\n\u001b[0;32m--> 338\u001b[0m results \u001b[38;5;241m=\u001b[39m \u001b[43mscipy\u001b[49m\u001b[38;5;241;43m.\u001b[39;49m\u001b[43moptimize\u001b[49m\u001b[38;5;241;43m.\u001b[39;49m\u001b[43mminimize\u001b[49m\u001b[43m(\u001b[49m\n\u001b[1;32m    339\u001b[0m \u001b[43m    \u001b[49m\u001b[43mobjective_wrapper\u001b[49m\u001b[43m,\u001b[49m\u001b[43m \u001b[49m\u001b[43minitial_values\u001b[49m\u001b[43m,\u001b[49m\u001b[43m \u001b[49m\u001b[43mmethod\u001b[49m\u001b[38;5;241;43m=\u001b[39;49m\u001b[43mmethod\u001b[49m\u001b[43m,\u001b[49m\u001b[43m \u001b[49m\u001b[43mjac\u001b[49m\u001b[38;5;241;43m=\u001b[39;49m\u001b[43mgradient_wrapper\u001b[49m\u001b[43m \u001b[49m\u001b[38;5;28;43;01mif\u001b[39;49;00m\u001b[43m \u001b[49m\u001b[43mcompute_gradient\u001b[49m\u001b[43m \u001b[49m\u001b[38;5;28;43;01melse\u001b[39;49;00m\u001b[43m \u001b[49m\u001b[38;5;28;43;01mFalse\u001b[39;49;00m\u001b[43m,\u001b[49m\n\u001b[1;32m    340\u001b[0m \u001b[43m    \u001b[49m\u001b[43mhess\u001b[49m\u001b[38;5;241;43m=\u001b[39;49m\u001b[43mhess\u001b[49m\u001b[43m,\u001b[49m\u001b[43m \u001b[49m\u001b[43mbounds\u001b[49m\u001b[38;5;241;43m=\u001b[39;49m\u001b[43mbounds\u001b[49m\u001b[43m,\u001b[49m\u001b[43m \u001b[49m\u001b[43mcallback\u001b[49m\u001b[38;5;241;43m=\u001b[39;49m\u001b[43mcallback\u001b[49m\u001b[43m,\u001b[49m\u001b[43m \u001b[49m\u001b[43moptions\u001b[49m\u001b[38;5;241;43m=\u001b[39;49m\u001b[43mscipy_options\u001b[49m\n\u001b[1;32m    341\u001b[0m \u001b[43m\u001b[49m\u001b[43m)\u001b[49m\n\u001b[1;32m    342\u001b[0m \u001b[38;5;28;01mreturn\u001b[39;00m results\u001b[38;5;241m.\u001b[39mx, results\u001b[38;5;241m.\u001b[39msuccess\n",
      "File \u001b[0;32m~/anaconda3/envs/Airbnb/lib/python3.11/site-packages/scipy/optimize/_minimize.py:731\u001b[0m, in \u001b[0;36mminimize\u001b[0;34m(fun, x0, args, method, jac, hess, hessp, bounds, constraints, tol, callback, options)\u001b[0m\n\u001b[1;32m    728\u001b[0m     res \u001b[38;5;241m=\u001b[39m _minimize_newtoncg(fun, x0, args, jac, hess, hessp, callback,\n\u001b[1;32m    729\u001b[0m                              \u001b[38;5;241m*\u001b[39m\u001b[38;5;241m*\u001b[39moptions)\n\u001b[1;32m    730\u001b[0m \u001b[38;5;28;01melif\u001b[39;00m meth \u001b[38;5;241m==\u001b[39m \u001b[38;5;124m'\u001b[39m\u001b[38;5;124ml-bfgs-b\u001b[39m\u001b[38;5;124m'\u001b[39m:\n\u001b[0;32m--> 731\u001b[0m     res \u001b[38;5;241m=\u001b[39m \u001b[43m_minimize_lbfgsb\u001b[49m\u001b[43m(\u001b[49m\u001b[43mfun\u001b[49m\u001b[43m,\u001b[49m\u001b[43m \u001b[49m\u001b[43mx0\u001b[49m\u001b[43m,\u001b[49m\u001b[43m \u001b[49m\u001b[43margs\u001b[49m\u001b[43m,\u001b[49m\u001b[43m \u001b[49m\u001b[43mjac\u001b[49m\u001b[43m,\u001b[49m\u001b[43m \u001b[49m\u001b[43mbounds\u001b[49m\u001b[43m,\u001b[49m\n\u001b[1;32m    732\u001b[0m \u001b[43m                           \u001b[49m\u001b[43mcallback\u001b[49m\u001b[38;5;241;43m=\u001b[39;49m\u001b[43mcallback\u001b[49m\u001b[43m,\u001b[49m\u001b[43m \u001b[49m\u001b[38;5;241;43m*\u001b[39;49m\u001b[38;5;241;43m*\u001b[39;49m\u001b[43moptions\u001b[49m\u001b[43m)\u001b[49m\n\u001b[1;32m    733\u001b[0m \u001b[38;5;28;01melif\u001b[39;00m meth \u001b[38;5;241m==\u001b[39m \u001b[38;5;124m'\u001b[39m\u001b[38;5;124mtnc\u001b[39m\u001b[38;5;124m'\u001b[39m:\n\u001b[1;32m    734\u001b[0m     res \u001b[38;5;241m=\u001b[39m _minimize_tnc(fun, x0, args, jac, bounds, callback\u001b[38;5;241m=\u001b[39mcallback,\n\u001b[1;32m    735\u001b[0m                         \u001b[38;5;241m*\u001b[39m\u001b[38;5;241m*\u001b[39moptions)\n",
      "File \u001b[0;32m~/anaconda3/envs/Airbnb/lib/python3.11/site-packages/scipy/optimize/_lbfgsb_py.py:407\u001b[0m, in \u001b[0;36m_minimize_lbfgsb\u001b[0;34m(fun, x0, args, jac, bounds, disp, maxcor, ftol, gtol, eps, maxfun, maxiter, iprint, callback, maxls, finite_diff_rel_step, **unknown_options)\u001b[0m\n\u001b[1;32m    401\u001b[0m task_str \u001b[38;5;241m=\u001b[39m task\u001b[38;5;241m.\u001b[39mtobytes()\n\u001b[1;32m    402\u001b[0m \u001b[38;5;28;01mif\u001b[39;00m task_str\u001b[38;5;241m.\u001b[39mstartswith(\u001b[38;5;124mb\u001b[39m\u001b[38;5;124m'\u001b[39m\u001b[38;5;124mFG\u001b[39m\u001b[38;5;124m'\u001b[39m):\n\u001b[1;32m    403\u001b[0m     \u001b[38;5;66;03m# The minimization routine wants f and g at the current x.\u001b[39;00m\n\u001b[1;32m    404\u001b[0m     \u001b[38;5;66;03m# Note that interruptions due to maxfun are postponed\u001b[39;00m\n\u001b[1;32m    405\u001b[0m     \u001b[38;5;66;03m# until the completion of the current minimization iteration.\u001b[39;00m\n\u001b[1;32m    406\u001b[0m     \u001b[38;5;66;03m# Overwrite f and g:\u001b[39;00m\n\u001b[0;32m--> 407\u001b[0m     f, g \u001b[38;5;241m=\u001b[39m \u001b[43mfunc_and_grad\u001b[49m\u001b[43m(\u001b[49m\u001b[43mx\u001b[49m\u001b[43m)\u001b[49m\n\u001b[1;32m    408\u001b[0m \u001b[38;5;28;01melif\u001b[39;00m task_str\u001b[38;5;241m.\u001b[39mstartswith(\u001b[38;5;124mb\u001b[39m\u001b[38;5;124m'\u001b[39m\u001b[38;5;124mNEW_X\u001b[39m\u001b[38;5;124m'\u001b[39m):\n\u001b[1;32m    409\u001b[0m     \u001b[38;5;66;03m# new iteration\u001b[39;00m\n\u001b[1;32m    410\u001b[0m     n_iterations \u001b[38;5;241m+\u001b[39m\u001b[38;5;241m=\u001b[39m \u001b[38;5;241m1\u001b[39m\n",
      "File \u001b[0;32m~/anaconda3/envs/Airbnb/lib/python3.11/site-packages/scipy/optimize/_differentiable_functions.py:343\u001b[0m, in \u001b[0;36mScalarFunction.fun_and_grad\u001b[0;34m(self, x)\u001b[0m\n\u001b[1;32m    341\u001b[0m \u001b[38;5;28;01mif\u001b[39;00m \u001b[38;5;129;01mnot\u001b[39;00m np\u001b[38;5;241m.\u001b[39marray_equal(x, \u001b[38;5;28mself\u001b[39m\u001b[38;5;241m.\u001b[39mx):\n\u001b[1;32m    342\u001b[0m     \u001b[38;5;28mself\u001b[39m\u001b[38;5;241m.\u001b[39m_update_x(x)\n\u001b[0;32m--> 343\u001b[0m \u001b[38;5;28;43mself\u001b[39;49m\u001b[38;5;241;43m.\u001b[39;49m\u001b[43m_update_fun\u001b[49m\u001b[43m(\u001b[49m\u001b[43m)\u001b[49m\n\u001b[1;32m    344\u001b[0m \u001b[38;5;28mself\u001b[39m\u001b[38;5;241m.\u001b[39m_update_grad()\n\u001b[1;32m    345\u001b[0m \u001b[38;5;28;01mreturn\u001b[39;00m \u001b[38;5;28mself\u001b[39m\u001b[38;5;241m.\u001b[39mf, \u001b[38;5;28mself\u001b[39m\u001b[38;5;241m.\u001b[39mg\n",
      "File \u001b[0;32m~/anaconda3/envs/Airbnb/lib/python3.11/site-packages/scipy/optimize/_differentiable_functions.py:294\u001b[0m, in \u001b[0;36mScalarFunction._update_fun\u001b[0;34m(self)\u001b[0m\n\u001b[1;32m    292\u001b[0m \u001b[38;5;28;01mdef\u001b[39;00m \u001b[38;5;21m_update_fun\u001b[39m(\u001b[38;5;28mself\u001b[39m):\n\u001b[1;32m    293\u001b[0m     \u001b[38;5;28;01mif\u001b[39;00m \u001b[38;5;129;01mnot\u001b[39;00m \u001b[38;5;28mself\u001b[39m\u001b[38;5;241m.\u001b[39mf_updated:\n\u001b[0;32m--> 294\u001b[0m         fx \u001b[38;5;241m=\u001b[39m \u001b[38;5;28;43mself\u001b[39;49m\u001b[38;5;241;43m.\u001b[39;49m\u001b[43m_wrapped_fun\u001b[49m\u001b[43m(\u001b[49m\u001b[38;5;28;43mself\u001b[39;49m\u001b[38;5;241;43m.\u001b[39;49m\u001b[43mx\u001b[49m\u001b[43m)\u001b[49m\n\u001b[1;32m    295\u001b[0m         \u001b[38;5;28;01mif\u001b[39;00m fx \u001b[38;5;241m<\u001b[39m \u001b[38;5;28mself\u001b[39m\u001b[38;5;241m.\u001b[39m_lowest_f:\n\u001b[1;32m    296\u001b[0m             \u001b[38;5;28mself\u001b[39m\u001b[38;5;241m.\u001b[39m_lowest_x \u001b[38;5;241m=\u001b[39m \u001b[38;5;28mself\u001b[39m\u001b[38;5;241m.\u001b[39mx\n",
      "File \u001b[0;32m~/anaconda3/envs/Airbnb/lib/python3.11/site-packages/scipy/optimize/_differentiable_functions.py:20\u001b[0m, in \u001b[0;36m_wrapper_fun.<locals>.wrapped\u001b[0;34m(x)\u001b[0m\n\u001b[1;32m     16\u001b[0m ncalls[\u001b[38;5;241m0\u001b[39m] \u001b[38;5;241m+\u001b[39m\u001b[38;5;241m=\u001b[39m \u001b[38;5;241m1\u001b[39m\n\u001b[1;32m     17\u001b[0m \u001b[38;5;66;03m# Send a copy because the user may overwrite it.\u001b[39;00m\n\u001b[1;32m     18\u001b[0m \u001b[38;5;66;03m# Overwriting results in undefined behaviour because\u001b[39;00m\n\u001b[1;32m     19\u001b[0m \u001b[38;5;66;03m# fun(self.x) will change self.x, with the two no longer linked.\u001b[39;00m\n\u001b[0;32m---> 20\u001b[0m fx \u001b[38;5;241m=\u001b[39m \u001b[43mfun\u001b[49m\u001b[43m(\u001b[49m\u001b[43mnp\u001b[49m\u001b[38;5;241;43m.\u001b[39;49m\u001b[43mcopy\u001b[49m\u001b[43m(\u001b[49m\u001b[43mx\u001b[49m\u001b[43m)\u001b[49m\u001b[43m,\u001b[49m\u001b[43m \u001b[49m\u001b[38;5;241;43m*\u001b[39;49m\u001b[43margs\u001b[49m\u001b[43m)\u001b[49m\n\u001b[1;32m     21\u001b[0m \u001b[38;5;66;03m# Make sure the function returns a true scalar\u001b[39;00m\n\u001b[1;32m     22\u001b[0m \u001b[38;5;28;01mif\u001b[39;00m \u001b[38;5;129;01mnot\u001b[39;00m np\u001b[38;5;241m.\u001b[39misscalar(fx):\n",
      "File \u001b[0;32m~/anaconda3/envs/Airbnb/lib/python3.11/site-packages/pyblp/configurations/optimization.py:315\u001b[0m, in \u001b[0;36mscipy_optimizer.<locals>.objective_wrapper\u001b[0;34m(values)\u001b[0m\n\u001b[1;32m    313\u001b[0m \u001b[38;5;28;01mnonlocal\u001b[39;00m cache\n\u001b[1;32m    314\u001b[0m \u001b[38;5;28;01mif\u001b[39;00m cache \u001b[38;5;129;01mis\u001b[39;00m \u001b[38;5;28;01mNone\u001b[39;00m \u001b[38;5;129;01mor\u001b[39;00m \u001b[38;5;129;01mnot\u001b[39;00m np\u001b[38;5;241m.\u001b[39marray_equal(values, cache[\u001b[38;5;241m0\u001b[39m]):\n\u001b[0;32m--> 315\u001b[0m     cache \u001b[38;5;241m=\u001b[39m (values\u001b[38;5;241m.\u001b[39mcopy(), \u001b[43mobjective_function\u001b[49m\u001b[43m(\u001b[49m\u001b[43mvalues\u001b[49m\u001b[43m)\u001b[49m)\n\u001b[1;32m    316\u001b[0m \u001b[38;5;28;01mreturn\u001b[39;00m cache[\u001b[38;5;241m1\u001b[39m][\u001b[38;5;241m0\u001b[39m]\n",
      "File \u001b[0;32m~/anaconda3/envs/Airbnb/lib/python3.11/site-packages/pyblp/configurations/optimization.py:279\u001b[0m, in \u001b[0;36mOptimization._optimize.<locals>.objective_wrapper\u001b[0;34m(raw_values)\u001b[0m\n\u001b[1;32m    277\u001b[0m raw_values \u001b[38;5;241m=\u001b[39m np\u001b[38;5;241m.\u001b[39masanyarray(raw_values)\n\u001b[1;32m    278\u001b[0m values \u001b[38;5;241m=\u001b[39m raw_values\u001b[38;5;241m.\u001b[39mreshape(initial\u001b[38;5;241m.\u001b[39mshape)\u001b[38;5;241m.\u001b[39mastype(initial\u001b[38;5;241m.\u001b[39mdtype, copy\u001b[38;5;241m=\u001b[39m\u001b[38;5;28;01mFalse\u001b[39;00m)\n\u001b[0;32m--> 279\u001b[0m objective, gradient \u001b[38;5;241m=\u001b[39m \u001b[43mverbose_objective_function\u001b[49m\u001b[43m(\u001b[49m\u001b[43mvalues\u001b[49m\u001b[43m,\u001b[49m\u001b[43m \u001b[49m\u001b[43miterations\u001b[49m\u001b[43m,\u001b[49m\u001b[43m \u001b[49m\u001b[43mevaluations\u001b[49m\u001b[43m)\u001b[49m\n\u001b[1;32m    280\u001b[0m \u001b[38;5;28;01mreturn\u001b[39;00m (\n\u001b[1;32m    281\u001b[0m     \u001b[38;5;28mfloat\u001b[39m(objective),\n\u001b[1;32m    282\u001b[0m     \u001b[38;5;28;01mNone\u001b[39;00m \u001b[38;5;28;01mif\u001b[39;00m gradient \u001b[38;5;129;01mis\u001b[39;00m \u001b[38;5;28;01mNone\u001b[39;00m \u001b[38;5;28;01melse\u001b[39;00m gradient\u001b[38;5;241m.\u001b[39mastype(raw_values\u001b[38;5;241m.\u001b[39mdtype, copy\u001b[38;5;241m=\u001b[39m\u001b[38;5;28;01mFalse\u001b[39;00m)\u001b[38;5;241m.\u001b[39mflatten()\n\u001b[1;32m    283\u001b[0m )\n",
      "File \u001b[0;32m~/anaconda3/envs/Airbnb/lib/python3.11/site-packages/pyblp/economies/problem.py:664\u001b[0m, in \u001b[0;36mProblemEconomy.solve.<locals>.wrapper\u001b[0;34m(new_theta, iterations, evaluations)\u001b[0m\n\u001b[1;32m    662\u001b[0m \u001b[38;5;28;01massert\u001b[39;00m optimization \u001b[38;5;129;01mis\u001b[39;00m \u001b[38;5;129;01mnot\u001b[39;00m \u001b[38;5;28;01mNone\u001b[39;00m \u001b[38;5;129;01mand\u001b[39;00m shares_bounds \u001b[38;5;129;01mis\u001b[39;00m \u001b[38;5;129;01mnot\u001b[39;00m \u001b[38;5;28;01mNone\u001b[39;00m \u001b[38;5;129;01mand\u001b[39;00m costs_bounds \u001b[38;5;129;01mis\u001b[39;00m \u001b[38;5;129;01mnot\u001b[39;00m \u001b[38;5;28;01mNone\u001b[39;00m\n\u001b[1;32m    663\u001b[0m progress_start_time \u001b[38;5;241m=\u001b[39m time\u001b[38;5;241m.\u001b[39mtime()\n\u001b[0;32m--> 664\u001b[0m progress \u001b[38;5;241m=\u001b[39m \u001b[43mcompute_step_progress\u001b[49m\u001b[43m(\u001b[49m\n\u001b[1;32m    665\u001b[0m \u001b[43m    \u001b[49m\u001b[43mnew_theta\u001b[49m\u001b[43m,\u001b[49m\u001b[43m \u001b[49m\u001b[43mprogress\u001b[49m\u001b[43m,\u001b[49m\u001b[43m \u001b[49m\u001b[43moptimization\u001b[49m\u001b[38;5;241;43m.\u001b[39;49m\u001b[43m_compute_gradient\u001b[49m\u001b[43m,\u001b[49m\u001b[43m \u001b[49m\u001b[43mcompute_hessian\u001b[49m\u001b[38;5;241;43m=\u001b[39;49m\u001b[38;5;28;43;01mFalse\u001b[39;49;00m\u001b[43m,\u001b[49m\n\u001b[1;32m    666\u001b[0m \u001b[43m    \u001b[49m\u001b[43mcompute_micro_covariances\u001b[49m\u001b[38;5;241;43m=\u001b[39;49m\u001b[38;5;28;43;01mFalse\u001b[39;49;00m\u001b[43m,\u001b[49m\u001b[43m \u001b[49m\u001b[43mdetect_micro_collinearity\u001b[49m\u001b[38;5;241;43m=\u001b[39;49m\u001b[43mdetect_micro_collinearity\u001b[49m\u001b[43m,\u001b[49m\n\u001b[1;32m    667\u001b[0m \u001b[43m    \u001b[49m\u001b[43mcompute_simulation_covariances\u001b[49m\u001b[38;5;241;43m=\u001b[39;49m\u001b[38;5;28;43;01mFalse\u001b[39;49;00m\u001b[43m,\u001b[49m\n\u001b[1;32m    668\u001b[0m \u001b[43m\u001b[49m\u001b[43m)\u001b[49m\n\u001b[1;32m    669\u001b[0m iteration_stats\u001b[38;5;241m.\u001b[39mappend(progress\u001b[38;5;241m.\u001b[39miteration_stats)\n\u001b[1;32m    670\u001b[0m progress_time \u001b[38;5;241m=\u001b[39m time\u001b[38;5;241m.\u001b[39mtime() \u001b[38;5;241m-\u001b[39m progress_start_time\n",
      "File \u001b[0;32m~/anaconda3/envs/Airbnb/lib/python3.11/site-packages/pyblp/economies/problem.py:839\u001b[0m, in \u001b[0;36mProblemEconomy._compute_progress\u001b[0;34m(self, parameters, moments, iv, W, scale_objective, error_behavior, error_punishment, delta_behavior, iteration, fp_type, shares_bounds, costs_bounds, finite_differences, covariance_moments_mean, resample_agent_data, theta, progress, compute_gradient, compute_hessian, compute_micro_covariances, detect_micro_collinearity, compute_simulation_covariances, agents_override)\u001b[0m\n\u001b[1;32m    837\u001b[0m parts_collinearity_candidate_values: Dict[Hashable, Dict[MicroDataset, Array]] \u001b[38;5;241m=\u001b[39m {}\n\u001b[1;32m    838\u001b[0m generator \u001b[38;5;241m=\u001b[39m generate_items(\u001b[38;5;28mself\u001b[39m\u001b[38;5;241m.\u001b[39munique_market_ids, market_factory, ProblemMarket\u001b[38;5;241m.\u001b[39msolve)\n\u001b[0;32m--> 839\u001b[0m \u001b[43m\u001b[49m\u001b[38;5;28;43;01mfor\u001b[39;49;00m\u001b[43m \u001b[49m\u001b[43mt\u001b[49m\u001b[43m,\u001b[49m\u001b[43m \u001b[49m\u001b[43mgenerated_t\u001b[49m\u001b[43m \u001b[49m\u001b[38;5;129;43;01min\u001b[39;49;00m\u001b[43m \u001b[49m\u001b[43mgenerator\u001b[49m\u001b[43m:\u001b[49m\n\u001b[1;32m    840\u001b[0m \u001b[43m    \u001b[49m\u001b[43m(\u001b[49m\n\u001b[1;32m    841\u001b[0m \u001b[43m        \u001b[49m\u001b[43mdelta_t\u001b[49m\u001b[43m,\u001b[49m\u001b[43m \u001b[49m\u001b[43mxi_jacobian_t\u001b[49m\u001b[43m,\u001b[49m\u001b[43m \u001b[49m\u001b[43mparts_numerator_t\u001b[49m\u001b[43m,\u001b[49m\u001b[43m \u001b[49m\u001b[43mparts_denominator_t\u001b[49m\u001b[43m,\u001b[49m\u001b[43m \u001b[49m\u001b[43mparts_numerator_jacobian_t\u001b[49m\u001b[43m,\u001b[49m\n\u001b[1;32m    842\u001b[0m \u001b[43m        \u001b[49m\u001b[43mparts_denominator_jacobian_t\u001b[49m\u001b[43m,\u001b[49m\u001b[43m \u001b[49m\u001b[43mparts_covariances_numerator_t\u001b[49m\u001b[43m,\u001b[49m\u001b[43m \u001b[49m\u001b[43mweights_mapping_t\u001b[49m\u001b[43m,\u001b[49m\u001b[43m \u001b[49m\u001b[43mvalues_mapping_t\u001b[49m\u001b[43m,\u001b[49m\n\u001b[1;32m    843\u001b[0m \u001b[43m        \u001b[49m\u001b[43mclipped_shares_t\u001b[49m\u001b[43m,\u001b[49m\u001b[43m \u001b[49m\u001b[43miteration_stats_t\u001b[49m\u001b[43m,\u001b[49m\u001b[43m \u001b[49m\u001b[43mtilde_costs_t\u001b[49m\u001b[43m,\u001b[49m\u001b[43m \u001b[49m\u001b[43momega_jacobian_t\u001b[49m\u001b[43m,\u001b[49m\u001b[43m \u001b[49m\u001b[43mclipped_costs_t\u001b[49m\u001b[43m,\u001b[49m\u001b[43m \u001b[49m\u001b[43merrors_t\u001b[49m\n\u001b[1;32m    844\u001b[0m \u001b[43m    \u001b[49m\u001b[43m)\u001b[49m\u001b[43m \u001b[49m\u001b[38;5;241;43m=\u001b[39;49m\u001b[43m \u001b[49m\u001b[43mgenerated_t\u001b[49m\n\u001b[1;32m    846\u001b[0m \u001b[43m    \u001b[49m\u001b[43mdelta\u001b[49m\u001b[43m[\u001b[49m\u001b[38;5;28;43mself\u001b[39;49m\u001b[38;5;241;43m.\u001b[39;49m\u001b[43m_product_market_indices\u001b[49m\u001b[43m[\u001b[49m\u001b[43mt\u001b[49m\u001b[43m]\u001b[49m\u001b[43m]\u001b[49m\u001b[43m \u001b[49m\u001b[38;5;241;43m=\u001b[39;49m\u001b[43m \u001b[49m\u001b[43mdelta_t\u001b[49m\n",
      "File \u001b[0;32m~/anaconda3/envs/Airbnb/lib/python3.11/site-packages/pyblp/utilities/basics.py:164\u001b[0m, in \u001b[0;36m<genexpr>\u001b[0;34m(.0)\u001b[0m\n\u001b[1;32m    159\u001b[0m \u001b[38;5;250m\u001b[39m\u001b[38;5;124;03m\"\"\"Generate (key, method(*factory(key))) tuples for each key. The first element returned by factory is an instance\u001b[39;00m\n\u001b[1;32m    160\u001b[0m \u001b[38;5;124;03mof the class to which method is attached. If a process pool has been initialized, use multiprocessing; otherwise,\u001b[39;00m\n\u001b[1;32m    161\u001b[0m \u001b[38;5;124;03muse serial processing.\u001b[39;00m\n\u001b[1;32m    162\u001b[0m \u001b[38;5;124;03m\"\"\"\u001b[39;00m\n\u001b[1;32m    163\u001b[0m \u001b[38;5;28;01mif\u001b[39;00m pool \u001b[38;5;129;01mis\u001b[39;00m \u001b[38;5;28;01mNone\u001b[39;00m:\n\u001b[0;32m--> 164\u001b[0m     \u001b[38;5;28;01mreturn\u001b[39;00m (\u001b[43mgenerate_items_worker\u001b[49m\u001b[43m(\u001b[49m\u001b[43m(\u001b[49m\u001b[43mk\u001b[49m\u001b[43m,\u001b[49m\u001b[43m \u001b[49m\u001b[43mfactory\u001b[49m\u001b[43m(\u001b[49m\u001b[43mk\u001b[49m\u001b[43m)\u001b[49m\u001b[43m,\u001b[49m\u001b[43m \u001b[49m\u001b[43mmethod\u001b[49m\u001b[43m)\u001b[49m\u001b[43m)\u001b[49m \u001b[38;5;28;01mfor\u001b[39;00m k \u001b[38;5;129;01min\u001b[39;00m keys)\n\u001b[1;32m    165\u001b[0m \u001b[38;5;28;01mreturn\u001b[39;00m pool\u001b[38;5;241m.\u001b[39mimap_unordered(generate_items_worker, ((k, factory(k), method) \u001b[38;5;28;01mfor\u001b[39;00m k \u001b[38;5;129;01min\u001b[39;00m keys))\n",
      "File \u001b[0;32m~/anaconda3/envs/Airbnb/lib/python3.11/site-packages/pyblp/utilities/basics.py:173\u001b[0m, in \u001b[0;36mgenerate_items_worker\u001b[0;34m(args)\u001b[0m\n\u001b[1;32m    169\u001b[0m \u001b[38;5;250m\u001b[39m\u001b[38;5;124;03m\"\"\"Call the specified method of a class instance with any additional arguments. Return the associated key along with\u001b[39;00m\n\u001b[1;32m    170\u001b[0m \u001b[38;5;124;03mthe returned object.\u001b[39;00m\n\u001b[1;32m    171\u001b[0m \u001b[38;5;124;03m\"\"\"\u001b[39;00m\n\u001b[1;32m    172\u001b[0m key, (instance, \u001b[38;5;241m*\u001b[39mmethod_args), method \u001b[38;5;241m=\u001b[39m args\n\u001b[0;32m--> 173\u001b[0m \u001b[38;5;28;01mreturn\u001b[39;00m key, \u001b[43mmethod\u001b[49m\u001b[43m(\u001b[49m\u001b[43minstance\u001b[49m\u001b[43m,\u001b[49m\u001b[43m \u001b[49m\u001b[38;5;241;43m*\u001b[39;49m\u001b[43mmethod_args\u001b[49m\u001b[43m)\u001b[49m\n",
      "File \u001b[0;32m~/anaconda3/envs/Airbnb/lib/python3.11/site-packages/pyblp/utilities/basics.py:665\u001b[0m, in \u001b[0;36mNumericalErrorHandler.__call__.<locals>.wrapper\u001b[0;34m(*args, **kwargs)\u001b[0m\n\u001b[1;32m    663\u001b[0m \u001b[38;5;28;01mwith\u001b[39;00m np\u001b[38;5;241m.\u001b[39merrstate(divide\u001b[38;5;241m=\u001b[39m\u001b[38;5;124m'\u001b[39m\u001b[38;5;124mcall\u001b[39m\u001b[38;5;124m'\u001b[39m, over\u001b[38;5;241m=\u001b[39m\u001b[38;5;124m'\u001b[39m\u001b[38;5;124mcall\u001b[39m\u001b[38;5;124m'\u001b[39m, under\u001b[38;5;241m=\u001b[39m\u001b[38;5;124m'\u001b[39m\u001b[38;5;124mignore\u001b[39m\u001b[38;5;124m'\u001b[39m, invalid\u001b[38;5;241m=\u001b[39m\u001b[38;5;124m'\u001b[39m\u001b[38;5;124mcall\u001b[39m\u001b[38;5;124m'\u001b[39m):\n\u001b[1;32m    664\u001b[0m     np\u001b[38;5;241m.\u001b[39mseterrcall(detector)\n\u001b[0;32m--> 665\u001b[0m     returned \u001b[38;5;241m=\u001b[39m \u001b[43mdecorated\u001b[49m\u001b[43m(\u001b[49m\u001b[38;5;241;43m*\u001b[39;49m\u001b[43margs\u001b[49m\u001b[43m,\u001b[49m\u001b[43m \u001b[49m\u001b[38;5;241;43m*\u001b[39;49m\u001b[38;5;241;43m*\u001b[39;49m\u001b[43mkwargs\u001b[49m\u001b[43m)\u001b[49m\n\u001b[1;32m    666\u001b[0m \u001b[38;5;28;01mif\u001b[39;00m detector\u001b[38;5;241m.\u001b[39mdetected \u001b[38;5;129;01mis\u001b[39;00m \u001b[38;5;129;01mnot\u001b[39;00m \u001b[38;5;28;01mNone\u001b[39;00m:\n\u001b[1;32m    667\u001b[0m     returned[\u001b[38;5;241m-\u001b[39m\u001b[38;5;241m1\u001b[39m]\u001b[38;5;241m.\u001b[39mappend(detector\u001b[38;5;241m.\u001b[39mdetected)\n",
      "File \u001b[0;32m~/anaconda3/envs/Airbnb/lib/python3.11/site-packages/pyblp/markets/problem_market.py:74\u001b[0m, in \u001b[0;36mProblemMarket.solve\u001b[0;34m(self, delta, last_delta, last_tilde_costs, moments, iteration, fp_type, shares_bounds, costs_bounds, compute_jacobians, compute_micro_covariances, keep_micro_mappings)\u001b[0m\n\u001b[1;32m     72\u001b[0m \u001b[38;5;28;01mif\u001b[39;00m compute_jacobians \u001b[38;5;129;01mand\u001b[39;00m (moments\u001b[38;5;241m.\u001b[39mPM \u001b[38;5;241m>\u001b[39m \u001b[38;5;241m0\u001b[39m \u001b[38;5;129;01mor\u001b[39;00m \u001b[38;5;28mself\u001b[39m\u001b[38;5;241m.\u001b[39mK3 \u001b[38;5;241m>\u001b[39m \u001b[38;5;241m0\u001b[39m):\n\u001b[1;32m     73\u001b[0m     \u001b[38;5;28;01massert\u001b[39;00m probabilities \u001b[38;5;129;01mis\u001b[39;00m \u001b[38;5;129;01mnot\u001b[39;00m \u001b[38;5;28;01mNone\u001b[39;00m\n\u001b[0;32m---> 74\u001b[0m     \u001b[38;5;28;43mself\u001b[39;49m\u001b[38;5;241;43m.\u001b[39;49m\u001b[43mupdate_probabilities_by_parameter_tangent_mapping\u001b[49m\u001b[43m(\u001b[49m\n\u001b[1;32m     75\u001b[0m \u001b[43m        \u001b[49m\u001b[43mprobabilities_tangent_mapping\u001b[49m\u001b[43m,\u001b[49m\u001b[43m \u001b[49m\u001b[43mconditionals_tangent_mapping\u001b[49m\u001b[43m,\u001b[49m\u001b[43m \u001b[49m\u001b[43mprobabilities\u001b[49m\u001b[43m,\u001b[49m\u001b[43m \u001b[49m\u001b[43mconditionals\u001b[49m\u001b[43m,\u001b[49m\u001b[43m \u001b[49m\u001b[43mxi_jacobian\u001b[49m\n\u001b[1;32m     76\u001b[0m \u001b[43m    \u001b[49m\u001b[43m)\u001b[49m\n\u001b[1;32m     78\u001b[0m \u001b[38;5;66;03m# compute contributions to micro moment parts, their Jacobian, and their covariances\u001b[39;00m\n\u001b[1;32m     79\u001b[0m \u001b[38;5;28;01mif\u001b[39;00m moments\u001b[38;5;241m.\u001b[39mPM \u001b[38;5;241m==\u001b[39m \u001b[38;5;241m0\u001b[39m:\n",
      "File \u001b[0;32m~/anaconda3/envs/Airbnb/lib/python3.11/site-packages/pyblp/markets/market.py:918\u001b[0m, in \u001b[0;36mMarket.update_probabilities_by_parameter_tangent_mapping\u001b[0;34m(self, probabilities_tangent_mapping, conditionals_tangent_mapping, probabilities, conditionals, xi_jacobian)\u001b[0m\n\u001b[1;32m    912\u001b[0m     probabilities_tensor, conditionals_tensor \u001b[38;5;241m=\u001b[39m \u001b[38;5;28mself\u001b[39m\u001b[38;5;241m.\u001b[39mcompute_probabilities_by_xi_tensor(\n\u001b[1;32m    913\u001b[0m         probabilities, conditionals,\n\u001b[1;32m    914\u001b[0m         compute_conditionals_tensor\u001b[38;5;241m=\u001b[39m\u001b[38;5;28many\u001b[39m(t \u001b[38;5;129;01mis\u001b[39;00m \u001b[38;5;129;01mnot\u001b[39;00m \u001b[38;5;28;01mNone\u001b[39;00m \u001b[38;5;28;01mfor\u001b[39;00m t \u001b[38;5;129;01min\u001b[39;00m conditionals_tangent_mapping\u001b[38;5;241m.\u001b[39mvalues())\n\u001b[1;32m    915\u001b[0m     )\n\u001b[1;32m    917\u001b[0m \u001b[38;5;66;03m# add the contribution of xi\u001b[39;00m\n\u001b[0;32m--> 918\u001b[0m probabilities_tangent \u001b[38;5;241m+\u001b[39m\u001b[38;5;241m=\u001b[39m \u001b[43mnp\u001b[49m\u001b[38;5;241;43m.\u001b[39;49m\u001b[43msqueeze\u001b[49m\u001b[43m(\u001b[49m\n\u001b[1;32m    919\u001b[0m \u001b[43m    \u001b[49m\u001b[43mnp\u001b[49m\u001b[38;5;241;43m.\u001b[39;49m\u001b[43mmoveaxis\u001b[49m\u001b[43m(\u001b[49m\u001b[43mprobabilities_tensor\u001b[49m\u001b[43m,\u001b[49m\u001b[43m \u001b[49m\u001b[38;5;241;43m0\u001b[39;49m\u001b[43m,\u001b[49m\u001b[43m \u001b[49m\u001b[38;5;241;43m2\u001b[39;49m\u001b[43m)\u001b[49m\u001b[43m \u001b[49m\u001b[38;5;241;43m@\u001b[39;49m\u001b[43m \u001b[49m\u001b[43mxi_jacobian\u001b[49m\u001b[43m[\u001b[49m\u001b[43m:\u001b[49m\u001b[43m,\u001b[49m\u001b[43m \u001b[49m\u001b[43m[\u001b[49m\u001b[43mp\u001b[49m\u001b[43m]\u001b[49m\u001b[43m]\u001b[49m\u001b[43m,\u001b[49m\u001b[43m \u001b[49m\u001b[43maxis\u001b[49m\u001b[38;5;241;43m=\u001b[39;49m\u001b[38;5;241;43m2\u001b[39;49m\n\u001b[1;32m    920\u001b[0m \u001b[43m\u001b[49m\u001b[43m)\u001b[49m\n\u001b[1;32m    921\u001b[0m \u001b[38;5;28;01mif\u001b[39;00m conditionals_tangent \u001b[38;5;129;01mis\u001b[39;00m \u001b[38;5;129;01mnot\u001b[39;00m \u001b[38;5;28;01mNone\u001b[39;00m:\n\u001b[1;32m    922\u001b[0m     \u001b[38;5;28;01massert\u001b[39;00m conditionals_tensor \u001b[38;5;129;01mis\u001b[39;00m \u001b[38;5;129;01mnot\u001b[39;00m \u001b[38;5;28;01mNone\u001b[39;00m\n",
      "File \u001b[0;32m~/anaconda3/envs/Airbnb/lib/python3.11/site-packages/numpy/core/fromnumeric.py:1487\u001b[0m, in \u001b[0;36m_squeeze_dispatcher\u001b[0;34m(a, axis)\u001b[0m\n\u001b[1;32m   1482\u001b[0m     a \u001b[38;5;241m=\u001b[39m concatenate((a,) \u001b[38;5;241m*\u001b[39m repeats)[:new_size]\n\u001b[1;32m   1484\u001b[0m     \u001b[38;5;28;01mreturn\u001b[39;00m reshape(a, new_shape)\n\u001b[0;32m-> 1487\u001b[0m \u001b[38;5;28;01mdef\u001b[39;00m \u001b[38;5;21m_squeeze_dispatcher\u001b[39m(a, axis\u001b[38;5;241m=\u001b[39m\u001b[38;5;28;01mNone\u001b[39;00m):\n\u001b[1;32m   1488\u001b[0m     \u001b[38;5;28;01mreturn\u001b[39;00m (a,)\n\u001b[1;32m   1491\u001b[0m \u001b[38;5;129m@array_function_dispatch\u001b[39m(_squeeze_dispatcher)\n\u001b[1;32m   1492\u001b[0m \u001b[38;5;28;01mdef\u001b[39;00m \u001b[38;5;21msqueeze\u001b[39m(a, axis\u001b[38;5;241m=\u001b[39m\u001b[38;5;28;01mNone\u001b[39;00m):\n",
      "\u001b[0;31mKeyboardInterrupt\u001b[0m: "
     ]
    }
   ],
   "source": [
    "results = problem.solve(\n",
    "    initial_sigma,\n",
    "    initial_pi,\n",
    "    costs_bounds=(0.001, None),\n",
    "    W_type='clustered',\n",
    "    se_type='clustered',\n",
    "    initial_update=True,\n",
    ")\n",
    "results"
   ]
  },
  {
   "cell_type": "code",
   "execution_count": null,
   "metadata": {},
   "outputs": [],
   "source": [
    "elasticities = results.compute_elasticities()\n",
    "diversions = results.compute_diversion_ratios()\n",
    "import matplotlib.pyplot as plt\n",
    "single_market = product_data['market_ids'] == '2024-06-25:shinjuku'\n",
    "plt.colorbar(plt.matshow(elasticities[single_market]));"
   ]
  },
  {
   "cell_type": "code",
   "execution_count": null,
   "metadata": {},
   "outputs": [],
   "source": [
    "means = results.extract_diagonal_means(elasticities)\n",
    "aggregates = results.compute_aggregate_elasticities(factor=0.1)\n",
    "\n",
    "plt.hist(\n",
    "    [means.flatten(), aggregates.flatten()],\n",
    "    color=['red', 'blue'],\n",
    "    bins=50\n",
    ");\n",
    "plt.legend(['Mean Own Elasticities', 'Aggregate Elasticities']);"
   ]
  },
  {
   "cell_type": "code",
   "execution_count": null,
   "metadata": {},
   "outputs": [],
   "source": [
    "costs = results.compute_costs()\n",
    "plt.hist(costs, bins=50);\n",
    "plt.legend([\"Marginal Costs\"]);"
   ]
  },
  {
   "cell_type": "code",
   "execution_count": null,
   "metadata": {},
   "outputs": [],
   "source": [
    "markups = results.compute_markups(costs=costs)\n",
    "plt.hist(markups, bins=50);\n",
    "plt.legend([\"Markups\"]);"
   ]
  }
 ],
 "metadata": {
  "kernelspec": {
   "display_name": "Airbnb",
   "language": "python",
   "name": "python3"
  },
  "language_info": {
   "codemirror_mode": {
    "name": "ipython",
    "version": 3
   },
   "file_extension": ".py",
   "mimetype": "text/x-python",
   "name": "python",
   "nbconvert_exporter": "python",
   "pygments_lexer": "ipython3",
   "version": "3.11.9"
  },
  "pycharm": {
   "stem_cell": {
    "cell_type": "raw",
    "metadata": {
     "collapsed": false
    },
    "source": []
   }
  }
 },
 "nbformat": 4,
 "nbformat_minor": 2
}
